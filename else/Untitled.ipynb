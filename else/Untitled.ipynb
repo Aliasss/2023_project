{
 "cells": [
  {
   "cell_type": "code",
   "execution_count": null,
   "id": "2baef4e1-9d2b-49c3-88b7-69724951bc76",
   "metadata": {},
   "outputs": [
    {
     "name": "stderr",
     "output_type": "stream",
     "text": [
      "[WDM] - Downloading: 100%|██████████████████████████████| 8.61M/8.61M [00:05<00:00, 1.62MB/s]\n"
     ]
    },
    {
     "ename": "NameError",
     "evalue": "name 'input_id' is not defined",
     "output_type": "error",
     "traceback": [
      "\u001b[0;31m---------------------------------------------------------------------------\u001b[0m",
      "\u001b[0;31mNameError\u001b[0m                                 Traceback (most recent call last)",
      "Cell \u001b[0;32mIn [1], line 101\u001b[0m\n\u001b[1;32m     96\u001b[0m     \u001b[38;5;66;03m# driver.quit()\u001b[39;00m\n\u001b[1;32m    100\u001b[0m \u001b[38;5;28;01mif\u001b[39;00m \u001b[38;5;18m__name__\u001b[39m \u001b[38;5;241m==\u001b[39m \u001b[38;5;124m\"\u001b[39m\u001b[38;5;124m__main__\u001b[39m\u001b[38;5;124m\"\u001b[39m:\n\u001b[0;32m--> 101\u001b[0m     \u001b[43mredash_refresh\u001b[49m\u001b[43m(\u001b[49m\u001b[43mdashboard_li\u001b[49m\u001b[43m)\u001b[49m\n",
      "Cell \u001b[0;32mIn [1], line 53\u001b[0m, in \u001b[0;36mredash_refresh\u001b[0;34m(dashboard_li)\u001b[0m\n\u001b[1;32m     48\u001b[0m \u001b[38;5;66;03m# 최초 진입 시에만 로그인\u001b[39;00m\n\u001b[1;32m     49\u001b[0m \u001b[38;5;28;01mif\u001b[39;00m cnt \u001b[38;5;241m==\u001b[39m \u001b[38;5;241m1\u001b[39m:\n\u001b[1;32m     50\u001b[0m     \u001b[38;5;66;03m# 로그인\u001b[39;00m\n\u001b[1;32m     51\u001b[0m     \u001b[38;5;66;03m# input_id = driver.find_element_by_css_selector('#inputEmail')\u001b[39;00m\n\u001b[1;32m     52\u001b[0m     \u001b[38;5;66;03m# input_id.send_keys(input('계정(이메일):'))\u001b[39;00m\n\u001b[0;32m---> 53\u001b[0m     \u001b[43minput_id\u001b[49m\u001b[38;5;241m.\u001b[39msend_keys(\u001b[38;5;124m'\u001b[39m\u001b[38;5;124malvin@soomgo.com\u001b[39m\u001b[38;5;124m'\u001b[39m)\n\u001b[1;32m     54\u001b[0m     \u001b[38;5;66;03m# input_pw = driver.find_element_by_css_selector('')\u001b[39;00m\n\u001b[1;32m     55\u001b[0m     \u001b[38;5;66;03m# input_pw.send_keys(input('비밀번호:'))\u001b[39;00m\n\u001b[1;32m     56\u001b[0m     input_pw\u001b[38;5;241m.\u001b[39msend_keys(\u001b[38;5;124m'\u001b[39m\u001b[38;5;124m/ichthus13/\u001b[39m\u001b[38;5;124m'\u001b[39m)\n",
      "\u001b[0;31mNameError\u001b[0m: name 'input_id' is not defined"
     ]
    }
   ],
   "source": [
    "#!/usr/bin/env python\n",
    "# coding: utf-8\n",
    "\n",
    "# module\n",
    "from selenium import webdriver\n",
    "from webdriver_manager.chrome import ChromeDriverManager\n",
    "import pyautogui as p\n",
    "import pyperclip\n",
    "\n",
    "import time\n",
    "import warnings\n",
    "\n",
    "warnings.filterwarnings('ignore')\n",
    "# 검색창에 입력할 대시보드\n",
    "dashboard_li = ['매칭_모니터링', '신규고수 전용 매칭 배포 모니터링',  '견적서 발송 API 이관 모니터링', '12/7 지정요청 quote_cap 변화에 따른 매칭 모니터링', '전사 지표_00_핵심지표', '전사 지표_01_Revenue', '전사 지표_02_Request, Quote', '전사 지표_03_User', '전사 지표_04_Profitability', '전사 지표_05_Product', '전사 지표_06_New Business']\n",
    "\n",
    "# 리대시 계정 정보 Load\n",
    "# id_pw_dir = './id_pw.txt'\n",
    "\n",
    "def id_pw(id_pw_dir):\n",
    "    id_pw_li = []\n",
    "    with open(id_pw_dir, \"r\") as f:\n",
    "        while True:\n",
    "            line = f.readline()\n",
    "            id_pw_li.append(line.strip())\n",
    "\n",
    "            if not line:\n",
    "                break\n",
    "    return id_pw_li\n",
    "\n",
    "\n",
    "def redash_refresh(dashboard_li):\n",
    "    driver = webdriver.Chrome(ChromeDriverManager().install())\n",
    "    cnt = 0\n",
    "    # 백그라운드 실행 옵션 (검색창에 키워드 입력할 때 다른 화면 클릭하면 안되는 현상은 해결되지 않음)\n",
    "    # options = webdriver.ChromeOptions()\n",
    "    # options.add_argument(\"headless\")\n",
    "    # driver = webdriver.Chrome(ChromeDriverManager().install(), chrome_options=options)\n",
    "\n",
    "\n",
    "    for dashboard in dashboard_li:\n",
    "        cnt += 1\n",
    "\n",
    "        # 리대시 페이지 접속\n",
    "        driver.get('http://34.64.147.132/dashboards?page=1&page_size=20&order=-created_at')\n",
    "        time.sleep(1.0)\n",
    "\n",
    "        # 최초 진입 시에만 로그인\n",
    "        if cnt == 1:\n",
    "            # 로그인\n",
    "            input_id = driver.find_element_by_css_selector('#inputEmail')\n",
    "            # input_id.send_keys(input('계정(이메일):'))\n",
    "            input_id.send_keys('alvin@soomgo.com')\n",
    "            input_pw = driver.find_element_by_css_selector('#inputPassword')\n",
    "            # input_pw.send_keys(input('비밀번호:'))\n",
    "            input_pw.send_keys('/ichthus13/')\n",
    "            driver.find_element_by_css_selector('body > div > div.fixed-width-page > div > form > button').click()\n",
    "\n",
    "        # 대시보드 검색\n",
    "        # time.sleep(1.5)\n",
    "        driver.implicitly_wait(5)\n",
    "        pyperclip.copy(dashboard)  # 복사\n",
    "        driver.find_element_by_xpath('//*[@id=\"app-content\"]/page-dashboard-list/div/div[2]/div[1]/div/div[1]/input').click()\n",
    "        time.sleep(1)\n",
    "        p.hotkey('command', 'v', interval=1.5)  # 붙여넣기\n",
    "        # time.sleep(1)\n",
    "        # print(driver.find_element_by_css_selector('a.table-main-title').text)\n",
    "\n",
    "        # 만약 refresh 하고자 하는 대시보드가 아닐 경우 (첫 번째 요소 비교)\n",
    "        if driver.find_element_by_css_selector('a.table-main-title').text != dashboard:\n",
    "            # 노출된 대시보드명이 인풋한 대시보드명과 다를 경우 검색창 클릭\n",
    "            driver.find_element_by_xpath('//*[@id=\"app-content\"]/page-dashboard-list/div/div[2]/div[1]/div/div[1]/input').click() # 10/27 추가\n",
    "            p.click(clicks=2)  # 더블클릭\n",
    "            pyperclip.copy(dashboard)\n",
    "            p.hotkey('command', 'v', interval=1.5) # interval=1.5 추가 (10/27)\n",
    "\n",
    "        # 대시보드명 출력\n",
    "        print(f\"{driver.find_element_by_css_selector('a.table-main-title').text}\")\n",
    "\n",
    "        # 대시보드 클릭 (진입)\n",
    "        time.sleep(1) # 2->1로 수정 (10/27)\n",
    "        driver.find_element_by_css_selector('a.table-main-title').click()\n",
    "\n",
    "        # refresh 클릭\n",
    "        time.sleep(5)\n",
    "        driver.find_element_by_css_selector('#split-button').click()\n",
    "\n",
    "        # 마지막 대시보드는 time.sleep(20) 걸어서 로딩 기다리기\n",
    "        if cnt == len(dashboard_li):\n",
    "            time.sleep(20)\n",
    "\n",
    "            driver.quit()\n",
    "\n",
    "        print(f\"완료 / cnt: {cnt}\\n\")\n",
    "\n",
    "    # driver.quit()\n",
    "\n",
    "\n",
    "\n",
    "if __name__ == \"__main__\":\n",
    "    redash_refresh(dashboard_li)\n"
   ]
  },
  {
   "cell_type": "code",
   "execution_count": 2,
   "id": "77729b8a-85c0-4735-92c3-8f89374e7fca",
   "metadata": {},
   "outputs": [
    {
     "ename": "ModuleNotFoundError",
     "evalue": "No module named 'gradio'",
     "output_type": "error",
     "traceback": [
      "\u001b[0;31m---------------------------------------------------------------------------\u001b[0m",
      "\u001b[0;31mModuleNotFoundError\u001b[0m                       Traceback (most recent call last)",
      "Cell \u001b[0;32mIn [2], line 1\u001b[0m\n\u001b[0;32m----> 1\u001b[0m \u001b[38;5;28;01mimport\u001b[39;00m \u001b[38;5;21;01mgradio\u001b[39;00m\n",
      "\u001b[0;31mModuleNotFoundError\u001b[0m: No module named 'gradio'"
     ]
    }
   ],
   "source": [
    "import gradio"
   ]
  },
  {
   "cell_type": "code",
   "execution_count": null,
   "id": "ee51aa82-58c6-4c44-8e67-24ffddbf1af9",
   "metadata": {},
   "outputs": [],
   "source": []
  }
 ],
 "metadata": {
  "kernelspec": {
   "display_name": "Python 3 (ipykernel)",
   "language": "python",
   "name": "python3"
  },
  "language_info": {
   "codemirror_mode": {
    "name": "ipython",
    "version": 3
   },
   "file_extension": ".py",
   "mimetype": "text/x-python",
   "name": "python",
   "nbconvert_exporter": "python",
   "pygments_lexer": "ipython3",
   "version": "3.9.6"
  }
 },
 "nbformat": 4,
 "nbformat_minor": 5
}

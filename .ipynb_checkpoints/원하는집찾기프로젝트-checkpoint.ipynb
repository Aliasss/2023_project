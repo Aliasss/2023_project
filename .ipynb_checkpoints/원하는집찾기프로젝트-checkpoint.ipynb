{
 "cells": [
  {
   "cell_type": "code",
   "execution_count": 49,
   "id": "19405dd9-400c-47af-bc24-053612b62497",
   "metadata": {},
   "outputs": [],
   "source": [
    "import pandas as pd\n",
    "import seaborn as sns\n",
    "\n",
    "import matplotlib.pyplot as plt\n",
    "plt.rc('font', family='AppleGothic')\n",
    "plt.rc('axes', unicode_minus=False)\n",
    "plt.style.use('ggplot')\n",
    "\n",
    "import numpy as np\n",
    "import warnings\n",
    "warnings.filterwarnings('ignore')\n",
    "\n",
    "import requests\n",
    "import pandas as pd\n",
    "import json\n",
    "from pandas import json_normalize\n",
    "import xml.etree.ElementTree as ET"
   ]
  },
  {
   "cell_type": "markdown",
   "id": "202db77a-a9d5-4fc1-9bf7-5873901510e4",
   "metadata": {},
   "source": [
    "# 서울시 생활인구 open API (https://data.seoul.go.kr/dataList/OA-14991/S/1/datasetView.do)"
   ]
  },
  {
   "cell_type": "markdown",
   "id": "dfe81aa2-9f1f-4281-942f-402809e207c7",
   "metadata": {},
   "source": [
    "* KEY 인증키\n",
    "* TYPE 요청파일 타입\n",
    "* SERVICE 서비스명\n",
    "* START_INDEX 요청시작위치\n",
    "* END_INDEX 요청종료위치\n",
    "* STDR_DE_ID 기준일ID\n",
    "* TMZON_PD_SE 시간대구분\n",
    "* ADSTRD_CODE_SE 행정동코드"
   ]
  },
  {
   "cell_type": "code",
   "execution_count": 40,
   "id": "37fc1ff9-7fe2-4394-9850-796266cb6d1d",
   "metadata": {},
   "outputs": [],
   "source": [
    "key = '795147786d73656f38346954726273'\n",
    "date = '20230508'\n",
    "dong_code = ''\n",
    "url = 'http://openapi.seoul.go.kr:8088/{}/xml/SPOP_LOCAL_RESD_DONG/1/1000/{}/ /{}'.format(key, date, dong_code)\n",
    "\n",
    "# 서울의 행정동 코드 전체를 가져오기 위한 함수\n",
    "def dongcode(url, key, code=dong_code):\n",
    "    response = requests.get(url)\n",
    "    res = response.text\n",
    "\n",
    "    root = ET.fromstring(res)\n",
    "    rows = root.findall('row')\n",
    "\n",
    "    data = []\n",
    "    for row in rows:\n",
    "        row_data = {}\n",
    "        for elem in row:\n",
    "            row_data[elem.tag] = elem.text\n",
    "        data.append(row_data)\n",
    "\n",
    "    # 데이터프레임 생성\n",
    "    df = pd.DataFrame(data)\n",
    "    print(df.shape)\n",
    "    print(len(df['ADSTRD_CODE_SE'].unique()))\n",
    "\n",
    "    return df['ADSTRD_CODE_SE'].unique().tolist()\n",
    "    \n",
    "\n",
    "# 행정동 코드 리스트\n",
    "code_list = dongcode(url, key)\n",
    "\n",
    "# 424개의 행정동별로 5/8~5/14 (월~일) 1주일치 데이터\n",
    "date_list = ['20230508', '20230509', '20230510', '20230511', '20230512', '20230513', '20230514']\n",
    "\n",
    "for code, date in ():\n",
    "    final_url = 'http://openapi.seoul.go.kr:8088/{}/xml/SPOP_LOCAL_RESD_DONG/1/1000/{}/ /{}'.format(key, date, dong_code)\n"
   ]
  },
  {
   "cell_type": "code",
   "execution_count": null,
   "id": "2018441a-2496-44ad-abf4-c9e9643c90ed",
   "metadata": {},
   "outputs": [],
   "source": []
  },
  {
   "cell_type": "code",
   "execution_count": null,
   "id": "ca93980f-38ea-4dea-bc9f-a32fe0a08b52",
   "metadata": {},
   "outputs": [],
   "source": []
  },
  {
   "cell_type": "code",
   "execution_count": null,
   "id": "85865ca5-01b3-44a9-823f-9ddf14b75f14",
   "metadata": {},
   "outputs": [],
   "source": []
  },
  {
   "cell_type": "code",
   "execution_count": null,
   "id": "606a2e30-0655-45a4-b407-0c0ecf14615b",
   "metadata": {},
   "outputs": [],
   "source": []
  },
  {
   "cell_type": "code",
   "execution_count": null,
   "id": "87f6f709-ce14-4d42-b8d7-f4a6ba9e5ba0",
   "metadata": {},
   "outputs": [],
   "source": []
  },
  {
   "cell_type": "code",
   "execution_count": null,
   "id": "a58d8d3c-6e44-454f-8d56-c981d2814fea",
   "metadata": {},
   "outputs": [],
   "source": []
  },
  {
   "cell_type": "code",
   "execution_count": null,
   "id": "f1d01ef9-49bb-4899-a160-00249e05ca6b",
   "metadata": {},
   "outputs": [],
   "source": []
  },
  {
   "cell_type": "code",
   "execution_count": null,
   "id": "37bcedf5-04ae-4ff2-9ad1-ec792a321202",
   "metadata": {},
   "outputs": [],
   "source": []
  },
  {
   "cell_type": "code",
   "execution_count": null,
   "id": "a1d4fc17-afc5-4d5e-88b4-02db3daf7ab6",
   "metadata": {},
   "outputs": [],
   "source": []
  },
  {
   "cell_type": "code",
   "execution_count": null,
   "id": "6bffd7ec-0608-45f5-a074-c050a97ba84f",
   "metadata": {},
   "outputs": [],
   "source": []
  },
  {
   "cell_type": "code",
   "execution_count": null,
   "id": "fbb80d34-2255-4e03-9223-55e20666fe17",
   "metadata": {},
   "outputs": [],
   "source": []
  },
  {
   "cell_type": "code",
   "execution_count": null,
   "id": "7bef80c3-f6d5-476c-9c64-fef6c7f6705f",
   "metadata": {},
   "outputs": [],
   "source": []
  },
  {
   "cell_type": "code",
   "execution_count": null,
   "id": "eddc6a09-04fe-48e2-968d-d7aef535d690",
   "metadata": {},
   "outputs": [],
   "source": []
  },
  {
   "cell_type": "code",
   "execution_count": null,
   "id": "f4b77a73-a186-4497-b770-58fd3650bbb1",
   "metadata": {},
   "outputs": [],
   "source": []
  },
  {
   "cell_type": "code",
   "execution_count": null,
   "id": "9eef2460-a679-4c38-9037-6f7703e9bcb9",
   "metadata": {},
   "outputs": [],
   "source": []
  },
  {
   "cell_type": "code",
   "execution_count": null,
   "id": "6c7b6646-9d80-4d8c-ada7-43083e593948",
   "metadata": {},
   "outputs": [],
   "source": []
  },
  {
   "cell_type": "code",
   "execution_count": null,
   "id": "d90c4d18-8a6d-4c15-9b2f-0ba2f4b63cc1",
   "metadata": {},
   "outputs": [],
   "source": []
  },
  {
   "cell_type": "code",
   "execution_count": null,
   "id": "ca23e120-bcda-4b94-961a-816987581d30",
   "metadata": {},
   "outputs": [],
   "source": []
  },
  {
   "cell_type": "code",
   "execution_count": null,
   "id": "67d0e72b-8994-4aab-a728-990a91a39496",
   "metadata": {},
   "outputs": [],
   "source": []
  },
  {
   "cell_type": "code",
   "execution_count": null,
   "id": "1ec27370-ebc0-404b-bcb2-6e6c72e24cec",
   "metadata": {},
   "outputs": [],
   "source": []
  },
  {
   "cell_type": "code",
   "execution_count": 48,
   "id": "0abab576-34be-4bff-8f5a-d52242b8f939",
   "metadata": {},
   "outputs": [],
   "source": [
    "# import matplotlib.pyplot as plt\n",
    "# import seaborn as sns\n",
    "# import numpy as np\n",
    "\n",
    "# # 데이터 설정\n",
    "# data1 = [(0, 4), (5, 5), (10, 6), (15, 4), (20, 1)]\n",
    "# data2 = [(0, 0), (5, 1), (10, 9), (15, 4), (20, 3)]\n",
    "\n",
    "# # 그래프 그리기용 넘파이 배열 생성\n",
    "# arr1 = np.array(data1)\n",
    "# arr2 = np.array(data2)\n",
    "\n",
    "# # 그래프 그리기\n",
    "# plt.figure(figsize=(8, 6))\n",
    "# sns.lineplot(data=arr1, x=arr1[:, 0], y=arr1[:, 1], color='blue', marker='o', label='에버랜드 바이킹 줄 서기~타고 내려오기까지의 행복 그래프(5분 단위)')\n",
    "# sns.lineplot(data=arr2, x=arr2[:, 0], y=arr2[:, 1], color='red', marker='o', label='대만 야시장 후추빵 줄 서기~음식 먹기까지의 행복 그래프(5분 단위)')\n",
    "\n",
    "# plt.xlabel('Time (minutes)', fontsize=12)\n",
    "# plt.ylabel('Happiness', fontsize=12)\n",
    "# plt.title('행복 그래프 비교', fontsize=14)\n",
    "# plt.xlim(0, 20)\n",
    "# plt.ylim(0, 10)\n",
    "# plt.legend(fontsize=10)\n",
    "# plt.grid(True, linestyle='--', alpha=0.3)\n",
    "\n",
    "# plt.xticks(range(0, 21, 5))\n",
    "# plt.yticks(range(0, 11))\n",
    "\n",
    "# plt.tight_layout()\n",
    "# plt.show()\n"
   ]
  },
  {
   "cell_type": "code",
   "execution_count": null,
   "id": "ebc18cec-a9b1-49c4-a12d-c97387fd4145",
   "metadata": {},
   "outputs": [],
   "source": []
  }
 ],
 "metadata": {
  "kernelspec": {
   "display_name": "Python 3 (ipykernel)",
   "language": "python",
   "name": "python3"
  },
  "language_info": {
   "codemirror_mode": {
    "name": "ipython",
    "version": 3
   },
   "file_extension": ".py",
   "mimetype": "text/x-python",
   "name": "python",
   "nbconvert_exporter": "python",
   "pygments_lexer": "ipython3",
   "version": "3.9.6"
  }
 },
 "nbformat": 4,
 "nbformat_minor": 5
}
